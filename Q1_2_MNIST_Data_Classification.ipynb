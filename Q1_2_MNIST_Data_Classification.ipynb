{
  "nbformat": 4,
  "nbformat_minor": 0,
  "metadata": {
    "colab": {
      "name": "Q1_2_MNIST_Data_Classification.ipynb",
      "provenance": [],
      "authorship_tag": "ABX9TyPpWRLLpwr0lbdAUmCAE0qR",
      "include_colab_link": true
    },
    "kernelspec": {
      "name": "python3",
      "display_name": "Python 3"
    }
  },
  "cells": [
    {
      "cell_type": "markdown",
      "metadata": {
        "id": "view-in-github",
        "colab_type": "text"
      },
      "source": [
        "<a href=\"https://colab.research.google.com/github/ktripa/CPSC-8430-HW1/blob/main/Q1_2_MNIST_Data_Classification.ipynb\" target=\"_parent\"><img src=\"https://colab.research.google.com/assets/colab-badge.svg\" alt=\"Open In Colab\"/></a>"
      ]
    },
    {
      "cell_type": "markdown",
      "metadata": {
        "id": "3snnYnzb7Qom"
      },
      "source": [
        "# **Mnist Handwrittern Data Set Classification**"
      ]
    },
    {
      "cell_type": "code",
      "metadata": {
        "id": "K_RSR63G7P7a"
      },
      "source": [
        "import numpy as np\r\n",
        "import pandas as pd\r\n",
        "import tensorflow as tf \r\n",
        "from tensorflow import keras \r\n",
        "from matplotlib import pyplot as plt\r\n",
        "import seaborn as sns\r\n"
      ],
      "execution_count": null,
      "outputs": []
    },
    {
      "cell_type": "code",
      "metadata": {
        "id": "2CchO-_l8MUQ"
      },
      "source": [
        "class myCallback(tf.keras.callbacks.Callback):\r\n",
        "  def on_epoch_end(self,epoch,logs={}):\r\n",
        "    if (logs.get('loss')<0.01):\r\n",
        "      print(\"\\n Stop the training of NN, 99% accuracy is obtained\")\r\n",
        "      self.model.stop_training = True\r\n",
        "\r\n",
        "callbacks = myCallback()"
      ],
      "execution_count": null,
      "outputs": []
    },
    {
      "cell_type": "markdown",
      "metadata": {
        "id": "aIfdRd4q9Ruo"
      },
      "source": [
        "**Load the MNIST Dataset using Keras library**"
      ]
    },
    {
      "cell_type": "code",
      "metadata": {
        "id": "09IpcmRf8M3n"
      },
      "source": [
        "mnist=keras.datasets.mnist\r\n",
        "(train_images,train_labels), (test_images,test_labels) = mnist.load_data()\r\n",
        "\r\n"
      ],
      "execution_count": null,
      "outputs": []
    },
    {
      "cell_type": "markdown",
      "metadata": {
        "id": "X9_uJel59tAn"
      },
      "source": [
        "Normalize the DN values in each pixel "
      ]
    },
    {
      "cell_type": "code",
      "metadata": {
        "id": "oH5_PuyB8M_O"
      },
      "source": [
        "train_images= tf.keras.utils.normalize(train_images,axis=1)\r\n",
        "test_images= tf.keras.utils.normalize(test_images,axis=1)"
      ],
      "execution_count": null,
      "outputs": []
    },
    {
      "cell_type": "markdown",
      "metadata": {
        "id": "aeEGLtLB_dVP"
      },
      "source": [
        "Let's look the data, how does it look like? \r\n"
      ]
    },
    {
      "cell_type": "code",
      "metadata": {
        "colab": {
          "base_uri": "https://localhost:8080/",
          "height": 285
        },
        "id": "h8B4FFtW_kWu",
        "outputId": "6e0be8a3-6a62-4cc7-e0b3-1562995d1502"
      },
      "source": [
        "plt.imshow(train_images[0],cmap=plt.cm.binary) # plot in greyscale\r\n",
        "plt.show()\r\n",
        "print('The first handwrittern digit is :',  train_labels[0])"
      ],
      "execution_count": null,
      "outputs": [
        {
          "output_type": "display_data",
          "data": {
            "image/png": "[encoded data removed]",
            "text/plain": [
              "<Figure size 432x288 with 1 Axes>"
            ]
          },
          "metadata": {
            "tags": [],
            "needs_background": "light"
          }
        },
        {
          "output_type": "stream",
          "text": [
            "The first handwrittern digit is : 5\n"
          ],
          "name": "stdout"
        }
      ]
    },
    {
      "cell_type": "markdown",
      "metadata": {
        "id": "VmUdpMAZD062"
      },
      "source": [
        "# **Model training using Deep Neural Network**"
      ]
    },
    {
      "cell_type": "code",
      "metadata": {
        "colab": {
          "base_uri": "https://localhost:8080/"
        },
        "id": "UCEPUVMuDUDS",
        "outputId": "27170501-1274-4ab6-f37c-094c4cb130e4"
      },
      "source": [
        "model_dnn=keras.models.Sequential(\r\n",
        "    [keras.layers.Flatten(),\r\n",
        "     keras.layers.Dense(128,activation=tf.nn.relu),\r\n",
        "     keras.layers.Dense(128,activation=tf.nn.relu),\r\n",
        "     keras.layers.Dense(10,activation=tf.nn.softmax),\r\n",
        "    ]\r\n",
        ")\r\n",
        "model_dnn.compile(optimizer='adam',loss='sparse_categorical_crossentropy',metrics=['accuracy'])\r\n",
        "model_dnn.fit(train_images, train_labels, epochs=20, callbacks=[callbacks])"
      ],
      "execution_count": null,
      "outputs": [
        {
          "output_type": "stream",
          "text": [
            "Epoch 1/20\n",
            "1875/1875 [==============================] - 4s 2ms/step - loss: 0.4678 - accuracy: 0.8629\n",
            "Epoch 2/20\n",
            "1875/1875 [==============================] - 4s 2ms/step - loss: 0.1114 - accuracy: 0.9659\n",
            "Epoch 3/20\n",
            "1875/1875 [==============================] - 4s 2ms/step - loss: 0.0707 - accuracy: 0.9775\n",
            "Epoch 4/20\n",
            "1875/1875 [==============================] - 4s 2ms/step - loss: 0.0488 - accuracy: 0.9848\n",
            "Epoch 5/20\n",
            "1875/1875 [==============================] - 4s 2ms/step - loss: 0.0375 - accuracy: 0.9877\n",
            "Epoch 6/20\n",
            "1875/1875 [==============================] - 4s 2ms/step - loss: 0.0266 - accuracy: 0.9912\n",
            "Epoch 7/20\n",
            "1875/1875 [==============================] - 4s 2ms/step - loss: 0.0213 - accuracy: 0.9931\n",
            "Epoch 8/20\n",
            "1875/1875 [==============================] - 4s 2ms/step - loss: 0.0175 - accuracy: 0.9940\n",
            "Epoch 9/20\n",
            "1875/1875 [==============================] - 4s 2ms/step - loss: 0.0160 - accuracy: 0.9947\n",
            "Epoch 10/20\n",
            "1875/1875 [==============================] - 4s 2ms/step - loss: 0.0121 - accuracy: 0.9956\n",
            "Epoch 11/20\n",
            "1875/1875 [==============================] - 4s 2ms/step - loss: 0.0108 - accuracy: 0.9965\n",
            "Epoch 12/20\n",
            "1875/1875 [==============================] - 4s 2ms/step - loss: 0.0109 - accuracy: 0.9960\n",
            "Epoch 13/20\n",
            "1875/1875 [==============================] - 4s 2ms/step - loss: 0.0092 - accuracy: 0.9970\n",
            "Epoch 14/20\n",
            "1875/1875 [==============================] - 4s 2ms/step - loss: 0.0107 - accuracy: 0.9962\n",
            "Epoch 15/20\n",
            "1875/1875 [==============================] - 4s 2ms/step - loss: 0.0064 - accuracy: 0.9978\n",
            "\n",
            " Stop the training of NN, 99% accuracy is obtained\n"
          ],
          "name": "stdout"
        },
        {
          "output_type": "execute_result",
          "data": {
            "text/plain": [
              "<tensorflow.python.keras.callbacks.History at 0x7f4114542198>"
            ]
          },
          "metadata": {
            "tags": []
          },
          "execution_count": 50
        }
      ]
    },
    {
      "cell_type": "code",
      "metadata": {
        "colab": {
          "base_uri": "https://localhost:8080/"
        },
        "id": "bizsMjrjDURn",
        "outputId": "96999d9c-8a69-42cd-8390-995ad1feb203"
      },
      "source": [
        "validation_loss, validation_acc =model_dnn.evaluate(test_images,test_labels)\r\n",
        "print('The validation loss is :',validation_loss)\r\n",
        "print('The validation accuracy is :', validation_acc)"
      ],
      "execution_count": null,
      "outputs": [
        {
          "output_type": "stream",
          "text": [
            "313/313 [==============================] - 0s 1ms/step - loss: 0.1205 - accuracy: 0.9773\n",
            "The validation loss is : 0.12054707109928131\n",
            "The validation accuracy is : 0.9772999882698059\n"
          ],
          "name": "stdout"
        }
      ]
    }
  ]
}