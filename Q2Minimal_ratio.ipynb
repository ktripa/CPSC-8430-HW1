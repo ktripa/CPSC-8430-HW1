{
  "nbformat": 4,
  "nbformat_minor": 0,
  "metadata": {
    "kernelspec": {
      "display_name": "TF_Keras_GPU",
      "language": "python",
      "name": "tfu_gpu_test"
    },
    "language_info": {
      "codemirror_mode": {
        "name": "ipython",
        "version": 3
      },
      "file_extension": ".py",
      "mimetype": "text/x-python",
      "name": "python",
      "nbconvert_exporter": "python",
      "pygments_lexer": "ipython3",
      "version": "3.8.3"
    },
    "colab": {
      "name": "Q2Minimal_ratio.ipynb",
      "provenance": [],
      "include_colab_link": true
    }
  },
  "cells": [
    {
      "cell_type": "markdown",
      "metadata": {
        "id": "view-in-github",
        "colab_type": "text"
      },
      "source": [
        "<a href=\"https://colab.research.google.com/github/ktripa/CPSC-8430-HW1/blob/main/Q2Minimal_ratio.ipynb\" target=\"_parent\"><img src=\"https://colab.research.google.com/assets/colab-badge.svg\" alt=\"Open In Colab\"/></a>"
      ]
    },
    {
      "cell_type": "code",
      "metadata": {
        "id": "Uvy7-jJhrPvB"
      },
      "source": [
        "import numpy as np\n",
        "import tensorflow as tf\n",
        "from tensorflow import keras\n",
        "from tensorflow.keras import layers\n",
        "import tensorflow.keras.backend as K\n",
        "import matplotlib.pyplot as plt\n"
      ],
      "execution_count": 25,
      "outputs": []
    },
    {
      "cell_type": "code",
      "metadata": {
        "id": "8BEjI7EirPvD"
      },
      "source": [
        "\n",
        "opt = keras.optimizers.Adam(learning_rate=0.01)\n",
        "loss_function = keras.losses.SparseCategoricalCrossentropy(from_logits=True)\n",
        "(train_images, train_labels), (test_images, test_labels) = keras.datasets.mnist.load_data()\n",
        "train_images = np.reshape(train_images, (-1, 784))\n",
        "test_images = np.reshape(test_images, (-1, 784))\n",
        "train_object = tf.data.Dataset.from_tensor_slices((train_images, train_labels))\n",
        "train_object = train_object.shuffle(buffer_size=1024).batch(64)"
      ],
      "execution_count": 26,
      "outputs": []
    },
    {
      "cell_type": "markdown",
      "metadata": {
        "id": "chhRY9g224Cb"
      },
      "source": [
        "# Define the Model"
      ]
    },
    {
      "cell_type": "code",
      "metadata": {
        "id": "F65QwxhnrPvD"
      },
      "source": [
        "images = keras.Input(shape=(784,))\n",
        "hidden1 = keras.layers.Dense(120, activation=\"relu\")(images)\n",
        "hidden2 = keras.layers.Dense(230, activation=\"relu\")(hidden1)\n",
        "classify = keras.layers.Dense(10)(hidden2)\n",
        "model = keras.Model(inputs=images,outputs=classify)"
      ],
      "execution_count": 37,
      "outputs": []
    },
    {
      "cell_type": "code",
      "metadata": {
        "id": "n0RPB7xErPvE"
      },
      "source": [
        "g_norm = []\n",
        "loss1 = []\n",
        "MR=[]\n",
        "loss2=[]\n",
        "def func_to_find_MinimalRatio(model, train_dataset, optimizer,epochs):\n",
        "    for epoch in range(epochs):\n",
        "      for LayerNum, (x, y) in enumerate(train_dataset):\n",
        "            with tf.GradientTape() as t:\n",
        "                with tf.GradientTape() as tt:\n",
        "\n",
        "                    logits = model(x, training=True) \n",
        "\n",
        "                    loss_value = loss_function(y, logits)\n",
        "                    loss1.append(loss_value)\n",
        "                dL_dw = tt.gradient(loss_value, model.trainable_weights)\n",
        "                summed_squares = [K.sum(K.square(grad)) for grad in dL_dw]\n",
        "                norm = K.sqrt(sum(summed_squares))\n",
        "                g_norm.append(norm)\n",
        "            if norm.numpy()<0.2: \n",
        "                loss2.append(loss_value)\n",
        "                d2L_dw2 = t.gradient(dL_dw, model.trainable_weights)\n",
        "                for w in d2L_dw2:\n",
        "                    w= w.numpy()\n",
        "                    print(w.shape)\n",
        "                Hessian = d2L_dw2[2]\n",
        "                ll= Hessian[0:100,0:100]\n",
        "                sq_matrix = tf.convert_to_tensor(ll)\n",
        "                eigen = tf.linalg.eigh(sq_matrix)\n",
        "                eigen_values= eigen[0].numpy()\n",
        "                prop_minima = eigen_values > 0\n",
        "                min_count = prop_minima.sum()\n",
        "                min_ratio = min_count/5\n",
        "                MR.append(min_ratio)"
      ],
      "execution_count": 38,
      "outputs": []
    },
    {
      "cell_type": "code",
      "metadata": {
        "id": "TDILHZdJrPvE"
      },
      "source": [
        "func_to_find_MinimalRatio(model, train_object, opt,10)"
      ],
      "execution_count": 40,
      "outputs": []
    },
    {
      "cell_type": "code",
      "metadata": {
        "colab": {
          "base_uri": "https://localhost:8080/",
          "height": 295
        },
        "id": "j4us01XUrPvG",
        "outputId": "8c51af10-ba95-4c6a-c510-df44f313c2f6"
      },
      "source": [
        "# Plot the minimal ratio\n",
        "plt.scatter(MR,loss2)\n",
        "plt.title('Minimal ratio')\n",
        "plt.ylabel('loss')\n",
        "plt.xlabel('minimal ratio')\n",
        "plt.show()"
      ],
      "execution_count": 42,
      "outputs": [
        {
          "output_type": "display_data",
          "data": {
            "image/png": "[encoded data removed]",
            "text/plain": [
              "<Figure size 432x288 with 1 Axes>"
            ]
          },
          "metadata": {
            "tags": [],
            "needs_background": "light"
          }
        }
      ]
    },
    {
      "cell_type": "code",
      "metadata": {
        "colab": {
          "base_uri": "https://localhost:8080/"
        },
        "id": "vpibi-t2rPvG",
        "outputId": "3204f485-2137-4d71-918c-46bcdb25564d"
      },
      "source": [
        "a3=np.arange(-1,3,0.1)\n",
        "\n",
        "print(a3)"
      ],
      "execution_count": 10,
      "outputs": [
        {
          "output_type": "stream",
          "text": [
            "[-1.00000000e+00 -9.00000000e-01 -8.00000000e-01 -7.00000000e-01\n",
            " -6.00000000e-01 -5.00000000e-01 -4.00000000e-01 -3.00000000e-01\n",
            " -2.00000000e-01 -1.00000000e-01 -2.22044605e-16  1.00000000e-01\n",
            "  2.00000000e-01  3.00000000e-01  4.00000000e-01  5.00000000e-01\n",
            "  6.00000000e-01  7.00000000e-01  8.00000000e-01  9.00000000e-01\n",
            "  1.00000000e+00  1.10000000e+00  1.20000000e+00  1.30000000e+00\n",
            "  1.40000000e+00  1.50000000e+00  1.60000000e+00  1.70000000e+00\n",
            "  1.80000000e+00  1.90000000e+00  2.00000000e+00  2.10000000e+00\n",
            "  2.20000000e+00  2.30000000e+00  2.40000000e+00  2.50000000e+00\n",
            "  2.60000000e+00  2.70000000e+00  2.80000000e+00  2.90000000e+00]\n"
          ],
          "name": "stdout"
        }
      ]
    },
    {
      "cell_type": "code",
      "metadata": {
        "id": "Zj-lvbBwrPvH"
      },
      "source": [
        "r_list = [1,2,3,4]\n",
        "x=1\n",
        "for r in r_list:  \n",
        "    if x%2 ==0: \n",
        "        print(r)\n",
        "x+=1"
      ],
      "execution_count": null,
      "outputs": []
    },
    {
      "cell_type": "code",
      "metadata": {
        "id": "-aQG_HyVrPvH"
      },
      "source": [
        ""
      ],
      "execution_count": null,
      "outputs": []
    }
  ]
}