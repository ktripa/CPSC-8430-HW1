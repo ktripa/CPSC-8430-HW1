{
  "nbformat": 4,
  "nbformat_minor": 0,
  "metadata": {
    "colab": {
      "name": "Q3_32.ipynb",
      "provenance": [],
      "collapsed_sections": [],
      "authorship_tag": "ABX9TyPi5YJSzNRdYd1d94J4tb60",
      "include_colab_link": true
    },
    "kernelspec": {
      "name": "python3",
      "display_name": "Python 3"
    }
  },
  "cells": [
    {
      "cell_type": "markdown",
      "metadata": {
        "id": "view-in-github",
        "colab_type": "text"
      },
      "source": [
        "<a href=\"https://colab.research.google.com/github/ktripa/CPSC-8430-HW1/blob/main/Q3_3part2.ipynb\" target=\"_parent\"><img src=\"https://colab.research.google.com/assets/colab-badge.svg\" alt=\"Open In Colab\"/></a>"
      ]
    },
    {
      "cell_type": "code",
      "metadata": {
        "id": "htK9zAm_9oqQ"
      },
      "source": [
        "import numpy as np\r\n",
        "import pandas as pd\r\n",
        "import tensorflow as tf \r\n",
        "from tensorflow import keras \r\n",
        "from matplotlib import pyplot as plt"
      ],
      "execution_count": 2,
      "outputs": []
    },
    {
      "cell_type": "code",
      "metadata": {
        "id": "d-SLYFUY9yH7",
        "colab": {
          "base_uri": "https://localhost:8080/"
        },
        "outputId": "28731794-3261-4b27-8bac-3fa8e766d530"
      },
      "source": [
        "mnist=keras.datasets.mnist\r\n",
        "(train_images,train_labels), (test_images,test_labels) = mnist.load_data()\r\n",
        "train_images= tf.keras.utils.normalize(train_images,axis=1)\r\n",
        "test_images= tf.keras.utils.normalize(test_images,axis=1)"
      ],
      "execution_count": 3,
      "outputs": [
        {
          "output_type": "stream",
          "text": [
            "Downloading data from https://storage.googleapis.com/tensorflow/tf-keras-datasets/mnist.npz\n",
            "11493376/11490434 [==============================] - 0s 0us/step\n"
          ],
          "name": "stdout"
        }
      ]
    },
    {
      "cell_type": "code",
      "metadata": {
        "colab": {
          "base_uri": "https://localhost:8080/"
        },
        "id": "Y4KSnU_I_Fkp",
        "outputId": "80a09091-60b0-4f43-c592-919a4ed89e29"
      },
      "source": [
        "batch=[32,1000]     \r\n",
        "x=np.arange(0,3,0.2)\r\n",
        "n_batch=np.zeros([len(x)])\r\n",
        "for i in range(len(x)):\r\n",
        "  n_batch[i]=batch[0]*(1-x[i])+x[i]*batch[1]\r\n",
        "n_batch.astype(int)\r\n",
        "#plt.plot(alpha,n_batch)\r\n"
      ],
      "execution_count": 4,
      "outputs": [
        {
          "output_type": "execute_result",
          "data": {
            "text/plain": [
              "array([  32,  225,  419,  612,  806, 1000, 1193, 1387, 1580, 1774, 1968,\n",
              "       2161, 2355, 2548, 2742])"
            ]
          },
          "metadata": {
            "tags": []
          },
          "execution_count": 4
        }
      ]
    },
    {
      "cell_type": "code",
      "metadata": {
        "colab": {
          "base_uri": "https://localhost:8080/"
        },
        "id": "y-ufmzamglKP",
        "outputId": "7957d779-d67f-4588-94a2-e4bc86108adf"
      },
      "source": [
        ""
      ],
      "execution_count": 11,
      "outputs": [
        {
          "output_type": "execute_result",
          "data": {
            "text/plain": [
              "array([  32. ,  225.6,  419.2,  612.8,  806.4, 1000. , 1193.6, 1387.2,\n",
              "       1580.8, 1774.4, 1968. , 2161.6, 2355.2, 2548.8, 2742.4])"
            ]
          },
          "metadata": {
            "tags": []
          },
          "execution_count": 11
        }
      ]
    },
    {
      "cell_type": "code",
      "metadata": {
        "colab": {
          "base_uri": "https://localhost:8080/"
        },
        "id": "9kGbv2kFcnjA",
        "outputId": "2e37f12a-a183-4102-9a09-e687fd75b841"
      },
      "source": [
        "acc=[]\r\n",
        "v_acc=[]\r\n",
        "loss=[]\r\n",
        "v_loss=[]\r\n",
        "for i in range(len(x)):\r\n",
        "\r\n",
        "  # Sequential Model\r\n",
        "  model=keras.models.Sequential(\r\n",
        "    [keras.layers.Flatten(),\r\n",
        "     keras.layers.Dense(64,activation=tf.nn.relu),\r\n",
        "     keras.layers.Dense(64,activation=tf.nn.relu),\r\n",
        "     keras.layers.Dense(10,activation=tf.nn.softmax),\r\n",
        "    ]\r\n",
        "  )\r\n",
        "  model.compile(optimizer='adam',loss='sparse_categorical_crossentropy',metrics=['accuracy'])\r\n",
        "  history= model.fit(train_images, train_labels, validation_split=0.3,batch_size=n_batch[i].astype(int), epochs=2)\r\n",
        "  acc.append(history.history['accuracy'][-1])\r\n",
        "  loss.append(history.history['loss'][-1])\r\n",
        "  v_acc.append(history.history['val_accuracy'][-1])\r\n",
        "  v_loss.append(history.history['val_loss'][-1])"
      ],
      "execution_count": 5,
      "outputs": [
        {
          "output_type": "stream",
          "text": [
            "Epoch 1/2\n",
            "1313/1313 [==============================] - 4s 2ms/step - loss: 0.6757 - accuracy: 0.8052 - val_loss: 0.2254 - val_accuracy: 0.9339\n",
            "Epoch 2/2\n",
            "1313/1313 [==============================] - 3s 2ms/step - loss: 0.1736 - accuracy: 0.9482 - val_loss: 0.1694 - val_accuracy: 0.9481\n",
            "Epoch 1/2\n",
            "187/187 [==============================] - 1s 5ms/step - loss: 1.1982 - accuracy: 0.6827 - val_loss: 0.3156 - val_accuracy: 0.9073\n",
            "Epoch 2/2\n",
            "187/187 [==============================] - 1s 4ms/step - loss: 0.2850 - accuracy: 0.9194 - val_loss: 0.2433 - val_accuracy: 0.9296\n",
            "Epoch 1/2\n",
            "101/101 [==============================] - 1s 7ms/step - loss: 1.5044 - accuracy: 0.6193 - val_loss: 0.3615 - val_accuracy: 0.8964\n",
            "Epoch 2/2\n",
            "101/101 [==============================] - 1s 6ms/step - loss: 0.3346 - accuracy: 0.9046 - val_loss: 0.2816 - val_accuracy: 0.9181\n",
            "Epoch 1/2\n",
            "69/69 [==============================] - 1s 10ms/step - loss: 1.6793 - accuracy: 0.5422 - val_loss: 0.4572 - val_accuracy: 0.8723\n",
            "Epoch 2/2\n",
            "69/69 [==============================] - 1s 8ms/step - loss: 0.4139 - accuracy: 0.8852 - val_loss: 0.3190 - val_accuracy: 0.9099\n",
            "Epoch 1/2\n",
            "53/53 [==============================] - 1s 15ms/step - loss: 1.8392 - accuracy: 0.4921 - val_loss: 0.5307 - val_accuracy: 0.8593\n",
            "Epoch 2/2\n",
            "53/53 [==============================] - 0s 9ms/step - loss: 0.4717 - accuracy: 0.8709 - val_loss: 0.3436 - val_accuracy: 0.9019\n",
            "Epoch 1/2\n",
            "42/42 [==============================] - 1s 14ms/step - loss: 1.9426 - accuracy: 0.4406 - val_loss: 0.6829 - val_accuracy: 0.8321\n",
            "Epoch 2/2\n",
            "42/42 [==============================] - 0s 11ms/step - loss: 0.5729 - accuracy: 0.8471 - val_loss: 0.3726 - val_accuracy: 0.8932\n",
            "Epoch 1/2\n",
            "36/36 [==============================] - 1s 18ms/step - loss: 1.9960 - accuracy: 0.4515 - val_loss: 0.8235 - val_accuracy: 0.8297\n",
            "Epoch 2/2\n",
            "36/36 [==============================] - 0s 13ms/step - loss: 0.6775 - accuracy: 0.8356 - val_loss: 0.4162 - val_accuracy: 0.8860\n",
            "Epoch 1/2\n",
            "31/31 [==============================] - 1s 19ms/step - loss: 2.0488 - accuracy: 0.3743 - val_loss: 1.0041 - val_accuracy: 0.7969\n",
            "Epoch 2/2\n",
            "31/31 [==============================] - 0s 14ms/step - loss: 0.8117 - accuracy: 0.8152 - val_loss: 0.4537 - val_accuracy: 0.8756\n",
            "Epoch 1/2\n",
            "27/27 [==============================] - 1s 22ms/step - loss: 2.1051 - accuracy: 0.3825 - val_loss: 1.1994 - val_accuracy: 0.7791\n",
            "Epoch 2/2\n",
            "27/27 [==============================] - 0s 17ms/step - loss: 0.9507 - accuracy: 0.8092 - val_loss: 0.4891 - val_accuracy: 0.8674\n",
            "Epoch 1/2\n",
            "24/24 [==============================] - 1s 25ms/step - loss: 2.1047 - accuracy: 0.3544 - val_loss: 1.3058 - val_accuracy: 0.7838\n",
            "Epoch 2/2\n",
            "24/24 [==============================] - 0s 18ms/step - loss: 1.0711 - accuracy: 0.7967 - val_loss: 0.5586 - val_accuracy: 0.8532\n",
            "Epoch 1/2\n",
            "22/22 [==============================] - 1s 36ms/step - loss: 2.1319 - accuracy: 0.3662 - val_loss: 1.3892 - val_accuracy: 0.7767\n",
            "Epoch 2/2\n",
            "22/22 [==============================] - 0s 20ms/step - loss: 1.1636 - accuracy: 0.7852 - val_loss: 0.6102 - val_accuracy: 0.8544\n",
            "Epoch 1/2\n",
            "20/20 [==============================] - 1s 30ms/step - loss: 2.1916 - accuracy: 0.3232 - val_loss: 1.6199 - val_accuracy: 0.7248\n",
            "Epoch 2/2\n",
            "20/20 [==============================] - 0s 21ms/step - loss: 1.3782 - accuracy: 0.7487 - val_loss: 0.7319 - val_accuracy: 0.8318\n",
            "Epoch 1/2\n",
            "18/18 [==============================] - 1s 33ms/step - loss: 2.1691 - accuracy: 0.3652 - val_loss: 1.6271 - val_accuracy: 0.7282\n",
            "Epoch 2/2\n",
            "18/18 [==============================] - 0s 23ms/step - loss: 1.4163 - accuracy: 0.7463 - val_loss: 0.8203 - val_accuracy: 0.8173\n",
            "Epoch 1/2\n",
            "17/17 [==============================] - 1s 35ms/step - loss: 2.1866 - accuracy: 0.3002 - val_loss: 1.6753 - val_accuracy: 0.6536\n",
            "Epoch 2/2\n",
            "17/17 [==============================] - 0s 25ms/step - loss: 1.4806 - accuracy: 0.7039 - val_loss: 0.8907 - val_accuracy: 0.8354\n",
            "Epoch 1/2\n",
            "16/16 [==============================] - 1s 35ms/step - loss: 2.1839 - accuracy: 0.3275 - val_loss: 1.6728 - val_accuracy: 0.7132\n",
            "Epoch 2/2\n",
            "16/16 [==============================] - 0s 25ms/step - loss: 1.4856 - accuracy: 0.7351 - val_loss: 0.9100 - val_accuracy: 0.8159\n"
          ],
          "name": "stdout"
        }
      ]
    },
    {
      "cell_type": "code",
      "metadata": {
        "colab": {
          "base_uri": "https://localhost:8080/",
          "height": 570
        },
        "id": "yx2MMp0vdtD5",
        "outputId": "5b0c968b-fe82-4bb9-a7b5-20e2c47b7be7"
      },
      "source": [
        "#plotting the loss and the accuracy\r\n",
        "f = plt.figure(figsize=(16,8))\r\n",
        "plt.suptitle(\"MNIST\",fontsize=30)\r\n",
        "ax1 = f.add_subplot(1,2,1)\r\n",
        "ax1.plot(n_batch.astype(int),acc,'r-', label='train')\r\n",
        "ax1.plot(n_batch.astype(int),v_acc,'b-', label='test')\r\n",
        "ax1.legend(loc='upper right',fontsize=16)\r\n",
        "ax1.set_xlabel('batch Size',fontsize=26)\r\n",
        "ax1.set_ylabel(\"accuracy\",fontsize=16)\r\n",
        "xticks=ax1.set_xticks(np.arange(0,3,0.5))\r\n",
        "#losses\r\n",
        "ax2 = f.add_subplot(1,2,2)\r\n",
        "ax2.plot(n_batch.astype(int),loss,'r-',label='train')\r\n",
        "ax2.plot(n_batch.astype(int),v_loss,'b-',label='test')\r\n",
        "ax2.legend(loc='upper left',fontsize=16)\r\n",
        "ax2.set_xlabel('batch Size',fontsize=26)\r\n",
        "ax2.set_ylabel(\"loss\",fontsize=16)\r\n",
        "xticks=ax2.set_xticks(np.arange(0,3,0.5))"
      ],
      "execution_count": 13,
      "outputs": [
        {
          "output_type": "display_data",
          "data": {
            "image/png": "[encoded data removed]",
            "text/plain": [
              "<Figure size 1152x576 with 2 Axes>"
            ]
          },
          "metadata": {
            "tags": [],
            "needs_background": "light"
          }
        }
      ]
    },
    {
      "cell_type": "code",
      "metadata": {
        "id": "YfLN6C3scnmH"
      },
      "source": [
        ""
      ],
      "execution_count": null,
      "outputs": []
    },
    {
      "cell_type": "markdown",
      "metadata": {
        "id": "jUQeb4Y_-Uza"
      },
      "source": [
        "# **Sensitivity**"
      ]
    },
    {
      "cell_type": "code",
      "metadata": {
        "id": "e9IVgypf-XZn"
      },
      "source": [
        "model=keras.models.Sequential(\r\n",
        "    [keras.layers.Flatten(),\r\n",
        "     keras.layers.Dense(128,activation=tf.nn.relu),\r\n",
        "     keras.layers.Dense(128,activation=tf.nn.relu),\r\n",
        "     keras.layers.Dense(10,activation=tf.nn.softmax),\r\n",
        "    ]\r\n",
        ")"
      ],
      "execution_count": null,
      "outputs": []
    },
    {
      "cell_type": "code",
      "metadata": {
        "colab": {
          "base_uri": "https://localhost:8080/"
        },
        "id": "IMNXL4Hj-mhJ",
        "outputId": "2aa8d6c5-698a-4579-bded-219be28289c6"
      },
      "source": [
        ""
      ],
      "execution_count": null,
      "outputs": [
        {
          "output_type": "stream",
          "text": [
            "[[0.19152565]] [[0.06277262]]\n",
            "<tf.Variable 'Variable:0' shape=(1, 1) dtype=float32, numpy=array([[2.]], dtype=float32)> <tf.Variable 'Variable:0' shape=(1, 1) dtype=float32, numpy=array([[3.]], dtype=float32)>\n"
          ],
          "name": "stdout"
        }
      ]
    },
    {
      "cell_type": "code",
      "metadata": {
        "id": "FAGWZqst-xQy"
      },
      "source": [
        "\r\n"
      ],
      "execution_count": null,
      "outputs": []
    },
    {
      "cell_type": "code",
      "metadata": {
        "id": "2ZHZ00D7-5XZ"
      },
      "source": [
        "func_to_calculate_jacobian(model, train_object)"
      ],
      "execution_count": null,
      "outputs": []
    }
  ]
}